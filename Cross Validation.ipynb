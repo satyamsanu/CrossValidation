{
 "cells": [
  {
   "cell_type": "code",
   "execution_count": 59,
   "metadata": {},
   "outputs": [],
   "source": [
    "import matplotlib.pyplot as plt\n",
    "import numpy as np\n",
    "from sklearn import datasets, linear_model, metrics\n",
    "from sklearn.metrics import mean_squared_error\n",
    "from sklearn.model_selection import train_test_split\n",
    "import time\n",
    "from numpy import mean\n",
    "import pandas as pd"
   ]
  },
  {
   "cell_type": "markdown",
   "metadata": {},
   "source": [
    "# Validation Set Approach"
   ]
  },
  {
   "cell_type": "code",
   "execution_count": 60,
   "metadata": {},
   "outputs": [],
   "source": [
    "# load the boston dataset\n",
    "boston = datasets.load_boston(return_X_y=False)\n",
    "  \n",
    "# defining feature matrix(X) and response vector(y)\n",
    "X = boston.data\n",
    "y = boston.target\n",
    "\n",
    "# Create the pandas DataFrame to store mse values\n",
    "df = pd.DataFrame()\n",
    "\n",
    "#different split ratio\n",
    "for j in [.2,.4]:\n",
    "\n",
    "    #list to store mse values\n",
    "    mse_list=[]\n",
    "    \n",
    "    #different random state \n",
    "    for i in range(1,21):\n",
    "        \n",
    "        # splitting X and y into training and testing sets\n",
    "        X_train, X_test, y_train, y_test = train_test_split(X, y, test_size=j,random_state=i)\n",
    "\n",
    "        # create linear regression object\n",
    "        reg = linear_model.LinearRegression()\n",
    "\n",
    "        # train the model using the training sets\n",
    "        reg.fit(X_train, y_train)\n",
    "\n",
    "        #predict\n",
    "        y_pred=reg.predict(X_test)\n",
    "\n",
    "        #calculate mse on test data\n",
    "        mse=mean_squared_error(y_test,y_pred)\n",
    "        \n",
    "        #add mse value to list\n",
    "        mse_list.append(mse)\n",
    "    \n",
    "    #add mse values for gievn split to dataframe\n",
    "    df[j]=mse_list\n",
    "     "
   ]
  },
  {
   "cell_type": "code",
   "execution_count": 61,
   "metadata": {},
   "outputs": [
    {
     "data": {
      "text/plain": [
       "<matplotlib.axes._subplots.AxesSubplot at 0x188b2bdf490>"
      ]
     },
     "execution_count": 61,
     "metadata": {},
     "output_type": "execute_result"
    },
    {
     "data": {
      "image/png": "[encoded data removed]",
      "text/plain": [
       "<Figure size 432x288 with 1 Axes>"
      ]
     },
     "metadata": {
      "needs_background": "light"
     },
     "output_type": "display_data"
    }
   ],
   "source": [
    "df.plot()"
   ]
  },
  {
   "cell_type": "markdown",
   "metadata": {},
   "source": [
    "# Leave One Out Cross Validation"
   ]
  },
  {
   "cell_type": "code",
   "execution_count": 62,
   "metadata": {},
   "outputs": [
    {
     "name": "stdout",
     "output_type": "stream",
     "text": [
      "--- 0.42287588119506836 seconds ---\n"
     ]
    },
    {
     "data": {
      "text/plain": [
       "23.725745519476096"
      ]
     },
     "execution_count": 62,
     "metadata": {},
     "output_type": "execute_result"
    }
   ],
   "source": [
    "from sklearn.model_selection import LeaveOneOut\n",
    "\n",
    "# load the boston dataset\n",
    "boston = datasets.load_boston(return_X_y=False)  \n",
    "\n",
    "# defining feature matrix(X) and response vector(y)\n",
    "X = boston.data\n",
    "y = boston.target\n",
    "\n",
    "# create loocv procedure\n",
    "cv = LeaveOneOut()\n",
    "\n",
    "# enumerate splits\n",
    "y_true, y_pred = list(), list()\n",
    "\n",
    "#record start time\n",
    "start_time = time.time()\n",
    "\n",
    "for train_ix, test_ix in cv.split(X):\n",
    "    #print(test_ix)\n",
    "    #print(train_ix)\n",
    "    \n",
    "    # split data\n",
    "    X_train, X_test = X[train_ix, :], X[test_ix, :]\n",
    "    y_train, y_test = y[train_ix], y[test_ix]\n",
    "    \n",
    "    # fit model\n",
    "    model = linear_model.LinearRegression()\n",
    "    model.fit(X_train, y_train)\n",
    "    # evaluate model\n",
    "    yhat = model.predict(X_test)\n",
    "    # store\n",
    "    y_true.append(y_test[0])\n",
    "    y_pred.append(yhat[0])\n",
    "\n",
    "#calculate run time\n",
    "print(\"--- %s seconds ---\" % (time.time() - start_time))\n",
    "\n",
    "# calculate mse\n",
    "mse = mean_squared_error(y_true, y_pred)\n",
    "mse"
   ]
  },
  {
   "cell_type": "markdown",
   "metadata": {},
   "source": [
    "# k-fold cross-validation"
   ]
  },
  {
   "cell_type": "code",
   "execution_count": 63,
   "metadata": {},
   "outputs": [],
   "source": [
    "#k-fold cross-validation\n",
    "\n",
    "from sklearn.model_selection import KFold\n",
    "from sklearn.model_selection import cross_val_score\n",
    "\n",
    "# load the boston dataset\n",
    "boston = datasets.load_boston(return_X_y=False)  \n",
    "# defining feature matrix(X) and response vector(y)\n",
    "X = boston.data\n",
    "y = boston.target\n",
    "\n",
    "# Create the pandas DataFrame to store mse values\n",
    "df = pd.DataFrame()\n",
    "\n",
    "#different values of k\n",
    "for j in [10,20,30]:\n",
    "    \n",
    "    #list to store mse values\n",
    "    mse_list=[]\n",
    "    \n",
    "    #different random state \n",
    "    for i in range(1,20):\n",
    "    \n",
    "        #record start time\n",
    "        #start_time = time.time()\n",
    "        \n",
    "        # prepare the cross-validation procedure\n",
    "        cv = KFold(n_splits=j, random_state=i, shuffle=True)\n",
    "\n",
    "        # create model\n",
    "        model = linear_model.LinearRegression()\n",
    "\n",
    "        # evaluate model\n",
    "        scores = cross_val_score(model, X, y, scoring='neg_mean_squared_error', cv=cv, n_jobs=-1)\n",
    "        \n",
    "        #calculate run time\n",
    "        #print(\"--- %s seconds ---\" % (time.time() - start_time))\n",
    "        \n",
    "        #add mse value to list\n",
    "        mse=mean(scores)\n",
    "        mse_list.append(mse)\n",
    "        \n",
    "        #print('Accuracy: %.3f (%.3f)' % (mean(scores), std(scores)))\n",
    "        \n",
    "    #add mse values for gievn split to dataframe\n",
    "    df[j]=mse_list"
   ]
  },
  {
   "cell_type": "code",
   "execution_count": 64,
   "metadata": {},
   "outputs": [
    {
     "data": {
      "text/plain": [
       "<matplotlib.axes._subplots.AxesSubplot at 0x188b2c48970>"
      ]
     },
     "execution_count": 64,
     "metadata": {},
     "output_type": "execute_result"
    },
    {
     "data": {
      "image/png": "[encoded data removed]",
      "text/plain": [
       "<Figure size 432x288 with 1 Axes>"
      ]
     },
     "metadata": {
      "needs_background": "light"
     },
     "output_type": "display_data"
    }
   ],
   "source": [
    "df.plot()"
   ]
  },
  {
   "cell_type": "code",
   "execution_count": 65,
   "metadata": {},
   "outputs": [
    {
     "data": {
      "text/plain": [
       "10   -23.840549\n",
       "20   -23.813703\n",
       "30   -23.748592\n",
       "dtype: float64"
      ]
     },
     "execution_count": 65,
     "metadata": {},
     "output_type": "execute_result"
    }
   ],
   "source": [
    "df.mean()"
   ]
  },
  {
   "cell_type": "code",
   "execution_count": 66,
   "metadata": {},
   "outputs": [
    {
     "data": {
      "text/plain": [
       "10    0.301529\n",
       "20    0.258280\n",
       "30    0.189790\n",
       "dtype: float64"
      ]
     },
     "execution_count": 66,
     "metadata": {},
     "output_type": "execute_result"
    }
   ],
   "source": [
    "df.std()"
   ]
  },
  {
   "cell_type": "markdown",
   "metadata": {},
   "source": [
    "# LOOCV Again"
   ]
  },
  {
   "cell_type": "code",
   "execution_count": 72,
   "metadata": {},
   "outputs": [
    {
     "name": "stdout",
     "output_type": "stream",
     "text": [
      "--- 0.32369494438171387 seconds ---\n"
     ]
    },
    {
     "data": {
      "text/plain": [
       "-23.725745519476096"
      ]
     },
     "execution_count": 72,
     "metadata": {},
     "output_type": "execute_result"
    }
   ],
   "source": [
    "# load the boston dataset\n",
    "boston = datasets.load_boston(return_X_y=False)  \n",
    "\n",
    "# defining feature matrix(X) and response vector(y)\n",
    "X = boston.data\n",
    "y = boston.target\n",
    "   \n",
    "#record start time\n",
    "start_time = time.time()\n",
    "\n",
    "# prepare the cross-validation procedure\n",
    "cv = LeaveOneOut()\n",
    "\n",
    "# create model\n",
    "model = linear_model.LinearRegression()\n",
    "\n",
    "# evaluate model\n",
    "scores = cross_val_score(model, X, y, scoring='neg_mean_squared_error', cv=cv, n_jobs=-1)\n",
    "\n",
    "#calculate run time\n",
    "print(\"--- %s seconds ---\" % (time.time() - start_time))\n",
    "    \n",
    "mean(scores)"
   ]
  },
  {
   "cell_type": "code",
   "execution_count": null,
   "metadata": {},
   "outputs": [],
   "source": []
  }
 ],
 "metadata": {
  "kernelspec": {
   "display_name": "Python 3",
   "language": "python",
   "name": "python3"
  },
  "language_info": {
   "codemirror_mode": {
    "name": "ipython",
    "version": 3
   },
   "file_extension": ".py",
   "mimetype": "text/x-python",
   "name": "python",
   "nbconvert_exporter": "python",
   "pygments_lexer": "ipython3",
   "version": "3.8.3"
  }
 },
 "nbformat": 4,
 "nbformat_minor": 4
}
